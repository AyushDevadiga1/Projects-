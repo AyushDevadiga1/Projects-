{
 "cells": [
  {
   "cell_type": "code",
   "execution_count": null,
   "id": "e8e3b400",
   "metadata": {},
   "outputs": [],
   "source": [
    "import pandas as pd\n",
    "import numpy as np\n",
    "import matplotlib\n",
    "import matplotlib.pyplot as plt\n",
    "import plotly.express as px\n",
    "import seaborn as sns\n"
   ]
  },
  {
   "cell_type": "code",
   "execution_count": null,
   "id": "19976d13",
   "metadata": {},
   "outputs": [],
   "source": [
    "\n",
    "try:\n",
    "    df=pd.read_csv('insurance.csv')\n",
    "except Exception as e:\n",
    "    print('Error : {e}')\n"
   ]
  },
  {
   "cell_type": "code",
   "execution_count": null,
   "id": "a51037a4",
   "metadata": {},
   "outputs": [],
   "source": [
    "sns.set_style('darkgrid')\n",
    "matplotlib.rcParams['font.size'] = 14\n",
    "matplotlib.rcParams['figure.figsize'] = (10,6)\n",
    "matplotlib.rcParams['figure.facecolor'] = '#000000'"
   ]
  },
  {
   "cell_type": "code",
   "execution_count": null,
   "id": "f2203853",
   "metadata": {},
   "outputs": [],
   "source": [
    "df.describe()"
   ]
  },
  {
   "cell_type": "code",
   "execution_count": null,
   "id": "1e33f1df",
   "metadata": {},
   "outputs": [],
   "source": [
    "fig=px.histogram(\n",
    "                    df,\n",
    "                    x='age',\n",
    "                    marginal='box',\n",
    "                    nbins=47,\n",
    "                    title='Distribution of Age'\n",
    "    )\n",
    "fig.update_layout(bargap=0.1)\n",
    "fig.show()"
   ]
  },
  {
   "cell_type": "code",
   "execution_count": null,
   "id": "a6085f1e",
   "metadata": {},
   "outputs": [],
   "source": [
    "fig=px.histogram(\n",
    "                    df,\n",
    "                    x='bmi',\n",
    "                    marginal='box',\n",
    "                    color_discrete_sequence=['red'],\n",
    "                    title='BMI Distribution'\n",
    ")\n",
    "fig.update_layout(bargap=0.1)\n",
    "fig.show()"
   ]
  },
  {
   "cell_type": "code",
   "execution_count": null,
   "id": "86f050f2",
   "metadata": {},
   "outputs": [],
   "source": [
    "fig=px.histogram(\n",
    "                    df,\n",
    "                    x='charges',\n",
    "                    marginal='box',\n",
    "                    color='smoker',\n",
    "                    color_discrete_sequence=['green','grey'],\n",
    "                    title='Annual Medical Charges'\n",
    ")\n",
    "fig.update_layout(bargap=0.1)\n",
    "fig.show()"
   ]
  },
  {
   "cell_type": "code",
   "execution_count": null,
   "id": "26b02017",
   "metadata": {},
   "outputs": [],
   "source": [
    "df.smoker.value_counts()"
   ]
  },
  {
   "cell_type": "code",
   "execution_count": null,
   "id": "cc2193ad",
   "metadata": {},
   "outputs": [],
   "source": [
    "px.histogram(\n",
    "                df,\n",
    "                x='smoker',\n",
    "                color='sex',\n",
    "                title='Gender based distribution'\n",
    ")"
   ]
  },
  {
   "cell_type": "code",
   "execution_count": null,
   "id": "7c16ef24",
   "metadata": {},
   "outputs": [],
   "source": [
    "fig=px.scatter( \n",
    "                df,\n",
    "                x='age',\n",
    "                y='charges',\n",
    "                color='smoker',\n",
    "                opacity=0.8,\n",
    "                hover_data=['sex'],\n",
    "                title='Age vs Charges'\n",
    ")\n",
    "fig.update_traces(marker_size=5)\n",
    "fig.show()"
   ]
  },
  {
   "cell_type": "code",
   "execution_count": null,
   "id": "91d9ee58",
   "metadata": {},
   "outputs": [],
   "source": [
    "fig=px.scatter(\n",
    "                df,\n",
    "                x='bmi',\n",
    "                y='charges',\n",
    "                color='smoker',\n",
    "                opacity=0.8,\n",
    "                hover_data=['sex'],\n",
    "                title='BMI and Charges'\n",
    ")\n",
    "fig.update_traces(marker_size=5)\n",
    "fig.show()"
   ]
  },
  {
   "cell_type": "code",
   "execution_count": null,
   "id": "8d726c70",
   "metadata": {},
   "outputs": [],
   "source": [
    "fig=px.violin(\n",
    "                df,\n",
    "                x='children',\n",
    "                y='charges',\n",
    "                title='Children and Charges'\n",
    ")\n",
    "fig.show()"
   ]
  },
  {
   "cell_type": "code",
   "execution_count": null,
   "id": "a924f04b",
   "metadata": {},
   "outputs": [],
   "source": [
    "df.charges.corr(df.age)"
   ]
  },
  {
   "cell_type": "code",
   "execution_count": null,
   "id": "37b262c5",
   "metadata": {},
   "outputs": [],
   "source": [
    "df.charges.corr(df.bmi)"
   ]
  },
  {
   "cell_type": "code",
   "execution_count": null,
   "id": "b12c0dfb",
   "metadata": {},
   "outputs": [],
   "source": [
    "s_values={'yes':1,'no':0}\n",
    "s_num=df.smoker.map(s_values)\n",
    "s_num"
   ]
  },
  {
   "cell_type": "code",
   "execution_count": null,
   "id": "fc6f1c81",
   "metadata": {},
   "outputs": [],
   "source": [
    "df.charges.corr(s_num)"
   ]
  },
  {
   "cell_type": "code",
   "execution_count": null,
   "id": "149378ae",
   "metadata": {},
   "outputs": [],
   "source": [
    "non_smoker=df[df['smoker']=='no']\n"
   ]
  },
  {
   "cell_type": "code",
   "execution_count": null,
   "id": "e308f774",
   "metadata": {},
   "outputs": [],
   "source": [
    "plt.title('Age vs Charges')\n",
    "sns.scatterplot(\n",
    "                    df,\n",
    "                    x='age',\n",
    "                    y='charges',\n",
    "                    alpha=0.7,\n",
    "                    s=15\n",
    ")"
   ]
  },
  {
   "cell_type": "code",
   "execution_count": null,
   "id": "29d146b4",
   "metadata": {},
   "outputs": [],
   "source": [
    "# For Linear Regression we try to fit such a line which is the closest tot all the other points.\n",
    "#The formula used here is : y=w*x+b (where y is the variable dependent on x , w = weight , and b = bias/intercept)\n",
    "def estimate_charges(age,w,b):\n",
    "    return age*w+b"
   ]
  },
  {
   "cell_type": "code",
   "execution_count": null,
   "id": "cc86af46",
   "metadata": {},
   "outputs": [],
   "source": [
    "w=50\n",
    "b=100"
   ]
  },
  {
   "cell_type": "code",
   "execution_count": null,
   "id": "a5463b42",
   "metadata": {},
   "outputs": [],
   "source": [
    "estimate_charges(30,w,b)"
   ]
  },
  {
   "cell_type": "code",
   "execution_count": null,
   "id": "3e03594e",
   "metadata": {},
   "outputs": [],
   "source": [
    "ages=non_smoker.age\n",
    "ages"
   ]
  },
  {
   "cell_type": "code",
   "execution_count": null,
   "id": "02c1a67b",
   "metadata": {},
   "outputs": [],
   "source": [
    "estimated_charges=estimate_charges(ages,w,b)\n",
    "estimated_charges"
   ]
  },
  {
   "cell_type": "code",
   "execution_count": null,
   "id": "6c291dce",
   "metadata": {},
   "outputs": [],
   "source": [
    "non_smoker.charges"
   ]
  },
  {
   "cell_type": "code",
   "execution_count": null,
   "id": "bfa1eec7",
   "metadata": {},
   "outputs": [],
   "source": [
    "plt.plot(ages,estimated_charges,color='red')\n",
    "plt.xlabel('age')\n",
    "plt.ylabel('estimated_charges')\n",
    "plt.show()"
   ]
  },
  {
   "cell_type": "code",
   "execution_count": null,
   "id": "822b39b2",
   "metadata": {},
   "outputs": [],
   "source": [
    "target=non_smoker.charges\n",
    "plt.plot(ages,estimated_charges,'r',alpha=0.90)\n",
    "plt.scatter(ages,target,s=8,alpha=0.8)\n",
    "plt.xlabel('Ages')\n",
    "plt.ylabel('Charges')\n",
    "plt.legend(['Estimate','Actual Charges'])"
   ]
  },
  {
   "cell_type": "code",
   "execution_count": null,
   "id": "11e8160a",
   "metadata": {},
   "outputs": [],
   "source": [
    "def try_paramters(w,b):\n",
    "    ages=non_smoker.age\n",
    "    estimated_charges=estimate_charges(ages,w,b)\n",
    "    \n",
    "    plt.plot(ages,estimated_charges,'r',alpha=0.90)\n",
    "    plt.scatter(ages,target,s=8,alpha=0.8)\n",
    "    plt.xlabel('Ages')\n",
    "    plt.ylabel('Charges')\n",
    "    plt.legend(['Estimate','Actual Charges'])"
   ]
  },
  {
   "cell_type": "code",
   "execution_count": null,
   "id": "806ba12a",
   "metadata": {},
   "outputs": [],
   "source": [
    "try_paramters(60,200)"
   ]
  },
  {
   "cell_type": "code",
   "execution_count": null,
   "id": "d226206d",
   "metadata": {},
   "outputs": [],
   "source": [
    "try_paramters(150,25)"
   ]
  },
  {
   "cell_type": "code",
   "execution_count": null,
   "id": "512bc4b4",
   "metadata": {},
   "outputs": [],
   "source": [
    "try_paramters(400,-2000)"
   ]
  },
  {
   "cell_type": "code",
   "execution_count": null,
   "id": "16796298",
   "metadata": {},
   "outputs": [],
   "source": [
    "target=non_smoker.charges\n",
    "target"
   ]
  },
  {
   "cell_type": "code",
   "execution_count": null,
   "id": "42ae734a",
   "metadata": {},
   "outputs": [],
   "source": [
    "predictions=estimated_charges\n",
    "predictions "
   ]
  },
  {
   "cell_type": "code",
   "execution_count": null,
   "id": "ebf867ea",
   "metadata": {},
   "outputs": [],
   "source": [
    "def rmse(target,predictions):\n",
    "    return np.sqrt(np.mean(np.square(target-predictions)))"
   ]
  },
  {
   "cell_type": "code",
   "execution_count": null,
   "id": "4bd30312",
   "metadata": {},
   "outputs": [],
   "source": [
    "w=50\n",
    "b=100"
   ]
  },
  {
   "cell_type": "code",
   "execution_count": null,
   "id": "2db895cc",
   "metadata": {},
   "outputs": [],
   "source": [
    "try_paramters(50,100)"
   ]
  },
  {
   "cell_type": "code",
   "execution_count": null,
   "id": "96577e07",
   "metadata": {},
   "outputs": [],
   "source": [
    "target=non_smoker.charges\n",
    "predicted=estimate_charges(non_smoker.age,w,b)"
   ]
  },
  {
   "cell_type": "code",
   "execution_count": null,
   "id": "13cdc778",
   "metadata": {},
   "outputs": [],
   "source": [
    "rmse(target,predicted)\n",
    "#Each element differs by $8461"
   ]
  },
  {
   "cell_type": "code",
   "execution_count": null,
   "id": "257ca231",
   "metadata": {},
   "outputs": [],
   "source": [
    "def try_paramters(w,b):\n",
    "    ages=non_smoker.age\n",
    "    target=non_smoker.charges\n",
    "    estimated_charges=estimate_charges(ages,w,b)\n",
    "    \n",
    "    plt.plot(ages,estimated_charges,'r',alpha=0.90)\n",
    "    plt.scatter(ages,target,s=8,alpha=0.8)\n",
    "    plt.xlabel('Ages')\n",
    "    plt.ylabel('Charges')\n",
    "    plt.legend(['Estimate','Actual Charges'])\n",
    "    loss=rmse(target,estimated_charges)\n",
    "    print(f'THIS IS THE RMSE/LOSS VALUE : {loss}')"
   ]
  },
  {
   "cell_type": "code",
   "execution_count": null,
   "id": "62c987c8",
   "metadata": {},
   "outputs": [],
   "source": [
    "try_paramters(300,-5000)"
   ]
  },
  {
   "cell_type": "code",
   "execution_count": null,
   "id": "7c135bf0",
   "metadata": {},
   "outputs": [],
   "source": [
    "from sklearn.linear_model import LinearRegression"
   ]
  },
  {
   "cell_type": "code",
   "execution_count": null,
   "id": "272c6912",
   "metadata": {},
   "outputs": [],
   "source": [
    "model=LinearRegression()"
   ]
  },
  {
   "cell_type": "code",
   "execution_count": null,
   "id": "71f3f99f",
   "metadata": {},
   "outputs": [],
   "source": [
    "input=non_smoker[['age']] # WE USE DOUBLE BRACKETS CAUSE WE CAN FIT MULTIPLE PARAMETERS FOR LINE FITTING\n",
    "target=non_smoker.charges"
   ]
  },
  {
   "cell_type": "code",
   "execution_count": null,
   "id": "327847d2",
   "metadata": {},
   "outputs": [],
   "source": [
    "model.fit(input,target)"
   ]
  },
  {
   "cell_type": "code",
   "execution_count": null,
   "id": "495ce527",
   "metadata": {},
   "outputs": [],
   "source": [
    "model.predict(np.array([[23],[37],[61]]))"
   ]
  },
  {
   "cell_type": "code",
   "execution_count": null,
   "id": "309f4f49",
   "metadata": {},
   "outputs": [],
   "source": [
    "predictions=model.predict(input)\n",
    "predictions"
   ]
  },
  {
   "cell_type": "code",
   "execution_count": null,
   "id": "3028beeb",
   "metadata": {},
   "outputs": [],
   "source": [
    "target"
   ]
  },
  {
   "cell_type": "code",
   "execution_count": null,
   "id": "6a2f9c42",
   "metadata": {},
   "outputs": [],
   "source": [
    "rmse(target,predictions)"
   ]
  },
  {
   "cell_type": "code",
   "execution_count": null,
   "id": "7f42c31c",
   "metadata": {},
   "outputs": [],
   "source": [
    "model.coef_"
   ]
  },
  {
   "cell_type": "code",
   "execution_count": null,
   "id": "e6097af1",
   "metadata": {},
   "outputs": [],
   "source": [
    "model.intercept_"
   ]
  },
  {
   "cell_type": "code",
   "execution_count": null,
   "id": "e6726fc2",
   "metadata": {},
   "outputs": [],
   "source": [
    "inputs,target=non_smoker[['age']],non_smoker['charges']\n",
    "\n",
    "model=LinearRegression()\n",
    "\n",
    "model.fit(inputs,target)\n",
    "\n",
    "predictions = model.predict(inputs)\n",
    "\n",
    "loss=rmse(target,predictions)\n",
    "\n",
    "print(f'Loss is {loss}')"
   ]
  },
  {
   "cell_type": "code",
   "execution_count": null,
   "id": "2e286b44",
   "metadata": {},
   "outputs": [],
   "source": [
    "#Plane as there are two weights\n",
    "#Bmi didnt create a major impact\n",
    "\n",
    "inputs,target=non_smoker[['age','bmi']],non_smoker['charges']\n",
    "\n",
    "model=LinearRegression()\n",
    "\n",
    "model.fit(inputs,target)\n",
    "\n",
    "predictions = model.predict(inputs)\n",
    "\n",
    "loss=rmse(target,predictions)\n",
    "\n",
    "print(f'Loss is {loss}')"
   ]
  },
  {
   "cell_type": "code",
   "execution_count": null,
   "id": "a8894883",
   "metadata": {},
   "outputs": [],
   "source": [
    "model.coef_"
   ]
  },
  {
   "cell_type": "code",
   "execution_count": null,
   "id": "4556df4c",
   "metadata": {},
   "outputs": [],
   "source": [
    "model.intercept_"
   ]
  },
  {
   "cell_type": "code",
   "execution_count": null,
   "id": "a1eb577b",
   "metadata": {},
   "outputs": [],
   "source": [
    "non_smoker.charges.corr(non_smoker['children'])"
   ]
  },
  {
   "cell_type": "code",
   "execution_count": null,
   "id": "12ec9fc3",
   "metadata": {},
   "outputs": [],
   "source": [
    "inputs,target=non_smoker[['age','bmi','children']],non_smoker['charges']\n",
    "\n",
    "model=LinearRegression()\n",
    "\n",
    "model.fit(inputs,target)\n",
    "\n",
    "predictions = model.predict(inputs)\n",
    "\n",
    "loss=rmse(target,predictions)\n",
    "\n",
    "print(f'Loss is {loss}')"
   ]
  },
  {
   "cell_type": "code",
   "execution_count": null,
   "id": "bff7dfc4",
   "metadata": {},
   "outputs": [],
   "source": [
    "inputs,target=df[['age','bmi','children']],df['charges']\n",
    "\n",
    "model=LinearRegression()\n",
    "\n",
    "model.fit(inputs,target)\n",
    "\n",
    "predictions = model.predict(inputs)\n",
    "\n",
    "loss=rmse(target,predictions)\n",
    "\n",
    "print(f'Loss is {loss}')"
   ]
  },
  {
   "cell_type": "code",
   "execution_count": null,
   "id": "a48ec424",
   "metadata": {},
   "outputs": [],
   "source": [
    "sns.barplot(data=df,x='smoker',y='charges')"
   ]
  },
  {
   "cell_type": "code",
   "execution_count": null,
   "id": "3ab67fef",
   "metadata": {},
   "outputs": [],
   "source": [
    "smoker_codes={'no':0,'yes':1}\n",
    "df['smoker_codes']=df.smoker.map(smoker_codes)\n"
   ]
  },
  {
   "cell_type": "code",
   "execution_count": null,
   "id": "e39497e5",
   "metadata": {},
   "outputs": [],
   "source": [
    "df"
   ]
  },
  {
   "cell_type": "code",
   "execution_count": null,
   "id": "d0e43d4f",
   "metadata": {},
   "outputs": [],
   "source": [
    "df.charges.corr(df.smoker_codes)"
   ]
  },
  {
   "cell_type": "code",
   "execution_count": null,
   "id": "3a02d060",
   "metadata": {},
   "outputs": [],
   "source": [
    "inputs,target=[['age','bmi','children','smoker_codes']],df['charges']\n",
    "\n",
    "model=LinearRegression().fit(inputs,target)\n",
    "\n",
    "predictions=model.predict(inputs)\n",
    "\n",
    "loss=rmse(target,predictions)\n",
    "\n",
    "loss"
   ]
  },
  {
   "cell_type": "code",
   "execution_count": null,
   "id": "7938a3e1",
   "metadata": {},
   "outputs": [],
   "source": [
    "#For Doing the same process as done for smoker codes when done for the gender column the correlation is really low and negigible for vast data analysis.\n",
    "\n",
    "smoker_codes={'female':0,'male':1}\n",
    "df['sex_codes']=df.sex.map(smoker_codes)"
   ]
  },
  {
   "cell_type": "code",
   "execution_count": null,
   "id": "fa98ba0b",
   "metadata": {},
   "outputs": [],
   "source": [
    "from sklearn import preprocessing\n",
    "\n",
    "enc=preprocessing.OneHotEncoder()\n",
    "\n",
    "enc.fit(df[['region']])\n",
    "enc.categories_"
   ]
  },
  {
   "cell_type": "code",
   "execution_count": null,
   "id": "e5da463e",
   "metadata": {},
   "outputs": [],
   "source": [
    "one_hot=enc.transform(df[['region']]).toarray()\n",
    "one_hot"
   ]
  },
  {
   "cell_type": "code",
   "execution_count": null,
   "id": "c049bfad",
   "metadata": {},
   "outputs": [],
   "source": [
    "df[['northeast', 'northwest', 'southeast', 'southwest']]=one_hot\n",
    "\n",
    "df"
   ]
  },
  {
   "cell_type": "code",
   "execution_count": null,
   "id": "b64a20d4",
   "metadata": {},
   "outputs": [],
   "source": [
    "inputs_cols=['age','bmi','children','smoker_codes','northeast', 'northwest','sex_codes', 'southeast', 'southwest']\n",
    "\n",
    "inputs,target=df[inputs_cols],df['charges']\n",
    "\n",
    "model=LinearRegression().fit(inputs,target)\n",
    "\n",
    "predictions=model.predict(inputs)\n",
    "\n",
    "loss=rmse(target,predictions)\n",
    "\n",
    "loss\n"
   ]
  },
  {
   "cell_type": "code",
   "execution_count": null,
   "id": "3542fcf3",
   "metadata": {},
   "outputs": [],
   "source": [
    "df[inputs_cols].loc[10]"
   ]
  },
  {
   "cell_type": "code",
   "execution_count": null,
   "id": "c9379f9e",
   "metadata": {},
   "outputs": [],
   "source": [
    "model.predict([[28,30,2,1,0,0,1,0,0]])"
   ]
  }
 ],
 "metadata": {
  "kernelspec": {
   "display_name": ".venv",
   "language": "python",
   "name": "python3"
  },
  "language_info": {
   "codemirror_mode": {
    "name": "ipython",
    "version": 3
   },
   "file_extension": ".py",
   "mimetype": "text/x-python",
   "name": "python",
   "nbconvert_exporter": "python",
   "pygments_lexer": "ipython3",
   "version": "3.13.7"
  }
 },
 "nbformat": 4,
 "nbformat_minor": 5
}

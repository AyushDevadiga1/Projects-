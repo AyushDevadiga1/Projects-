{
 "cells": [
  {
   "cell_type": "code",
   "execution_count": null,
   "id": "a70754a0",
   "metadata": {},
   "outputs": [],
   "source": [
    "from sklearn import linear_model \n",
    "from sklearn.linear_model import LinearRegression\n",
    "from sklearn.datasets import load_diabetes\n",
    "from sklearn.model_selection import train_test_split\n",
    "from sklearn.metrics import mean_squared_error ,r2_score \n",
    "import numpy as np\n",
    "import pandas as pd \n",
    "import matplotlib.pyplot as plt\n",
    "import plotly.express as px\n",
    "import seaborn as sns\n"
   ]
  },
  {
   "cell_type": "code",
   "execution_count": 6,
   "id": "1ba73a0f",
   "metadata": {},
   "outputs": [
    {
     "ename": "NameError",
     "evalue": "name 'LinearRegression' is not defined",
     "output_type": "error",
     "traceback": [
      "\u001b[31m---------------------------------------------------------------------------\u001b[39m",
      "\u001b[31mNameError\u001b[39m                                 Traceback (most recent call last)",
      "\u001b[36mCell\u001b[39m\u001b[36m \u001b[39m\u001b[32mIn[6]\u001b[39m\u001b[32m, line 1\u001b[39m\n\u001b[32m----> \u001b[39m\u001b[32m1\u001b[39m m1=\u001b[43mLinearRegression\u001b[49m()\n\u001b[32m      2\u001b[39m X=np.array([[\u001b[32m1\u001b[39m,\u001b[32m2\u001b[39m],\n\u001b[32m      3\u001b[39m             [\u001b[32m3\u001b[39m,\u001b[32m4\u001b[39m]])\n\u001b[32m      4\u001b[39m y=np.array([[\u001b[32m10\u001b[39m,\u001b[32m20\u001b[39m]])\n",
      "\u001b[31mNameError\u001b[39m: name 'LinearRegression' is not defined"
     ]
    }
   ],
   "source": [
    "m1=LinearRegression()\n",
    "X=np.array([[1,2],\n",
    "            [3,4]])\n",
    "y=np.array([[10,20]])\n",
    "m1.fit(X,y)\n",
    "m1.predict(X)"
   ]
  }
 ],
 "metadata": {
  "kernelspec": {
   "display_name": "Python 3.11.9(myenv)",
   "language": "python",
   "name": "myenv_kernel"
  },
  "language_info": {
   "codemirror_mode": {
    "name": "ipython",
    "version": 3
   },
   "file_extension": ".py",
   "mimetype": "text/x-python",
   "name": "python",
   "nbconvert_exporter": "python",
   "pygments_lexer": "ipython3",
   "version": "3.11.9"
  }
 },
 "nbformat": 4,
 "nbformat_minor": 5
}
